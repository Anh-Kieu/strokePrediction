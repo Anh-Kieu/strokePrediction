{
 "cells": [
  {
   "cell_type": "markdown",
   "id": "f0fcefac",
   "metadata": {},
   "source": [
    "# Modeling - Stroke Prediction\n",
    "**Anh Kieu - Rafe Batchelor**\n"
   ]
  },
  {
   "cell_type": "markdown",
   "id": "b62a4213",
   "metadata": {},
   "source": [
    "In this notebook, we will present and test different models that we pick for this dataset, train and evaluate using cross-validation (k-fold). Before we get into modeling, we will handle the imbalance dataset with different synthesis sampling method. We wish that we would be able to produce models with reasonable recall."
   ]
  },
  {
   "cell_type": "markdown",
   "id": "f2690ae5",
   "metadata": {},
   "source": [
    "## Preprocessing I - Basic data preprocessing"
   ]
  },
  {
   "cell_type": "code",
   "execution_count": 6,
   "id": "5ed3d0a9",
   "metadata": {},
   "outputs": [],
   "source": [
    "# import libaries:\n",
    "import numpy as np\n",
    "import pandas as pd\n",
    "import matplotlib.pyplot as plt\n",
    "import seaborn as sns\n",
    "import plotly\n",
    "import plotly.graph_objects as go\n",
    "import plotly.express as px"
   ]
  },
  {
   "cell_type": "code",
   "execution_count": 56,
   "id": "f83479eb",
   "metadata": {},
   "outputs": [],
   "source": [
    "from sklearn.model_selection import train_test_split, KFold\n",
    "from sklearn.utils import shuffle\n",
    "from sklearn.metrics import classification_report, confusion_matrix\n",
    "from sklearn.model_selection import cross_validate, cross_val_predict\n",
    "from sklearn.model_selection import GridSearchCV"
   ]
  },
  {
   "cell_type": "code",
   "execution_count": 19,
   "id": "4f8264f1",
   "metadata": {},
   "outputs": [],
   "source": [
    "# import data\n",
    "df = pd.read_csv(\"./data/healthcare-dataset-stroke-data.csv\")"
   ]
  },
  {
   "cell_type": "code",
   "execution_count": 20,
   "id": "4de59991",
   "metadata": {},
   "outputs": [],
   "source": [
    "# drop id as it is unique value, which we can use index for.\n",
    "df.drop(columns = ['id'], inplace = True)"
   ]
  },
  {
   "cell_type": "code",
   "execution_count": 21,
   "id": "5bbaefe5",
   "metadata": {},
   "outputs": [],
   "source": [
    "df = df.rename(columns = {'Residence_type' : 'residence_type'}) # change variable name for convenience."
   ]
  },
  {
   "cell_type": "code",
   "execution_count": 22,
   "id": "11f0173a",
   "metadata": {},
   "outputs": [],
   "source": [
    "cat_vars = [\"gender\", \"hypertension\", \"heart_disease\", \"ever_married\", \"work_type\", \"residence_type\", \"smoking_status\", \"stroke\"] # categorize\n",
    "for col in cat_vars:\n",
    "    df[col] = pd.Categorical(df[col], ordered = False)"
   ]
  },
  {
   "cell_type": "code",
   "execution_count": 23,
   "id": "51c9f25c",
   "metadata": {},
   "outputs": [],
   "source": [
    "# downcast:\n",
    "for column in df.columns[1:]:\n",
    "    if column == 'age':\n",
    "        df[column] = pd.to_numeric(df[column], downcast = 'unsigned')\n",
    "    elif column == 'avg_glucose_level' or column == 'bmi':\n",
    "        df[column] = pd.to_numeric(df[column], downcast = 'float')"
   ]
  },
  {
   "cell_type": "code",
   "execution_count": 24,
   "id": "3eedfa19",
   "metadata": {},
   "outputs": [],
   "source": [
    "df = df.loc[df['gender'] != \"Other\"] # change gender"
   ]
  },
  {
   "cell_type": "code",
   "execution_count": 25,
   "id": "e5fcaf04",
   "metadata": {},
   "outputs": [],
   "source": [
    "df['gender'] = pd.Categorical(df['gender'], categories = [\"Female\", \"Male\"], ordered = False)"
   ]
  },
  {
   "cell_type": "markdown",
   "id": "4ff2201a",
   "metadata": {},
   "source": [
    "## Preprocessing II - Data processing for modeling\n",
    "- Normalize, binary encode, N/A value with impute\n",
    "- Dropping unrelated attribute\n",
    "- Resampling"
   ]
  },
  {
   "cell_type": "code",
   "execution_count": 26,
   "id": "695116cc",
   "metadata": {},
   "outputs": [],
   "source": [
    "from sklearn.preprocessing import MinMaxScaler"
   ]
  },
  {
   "cell_type": "code",
   "execution_count": 27,
   "id": "658efb22",
   "metadata": {},
   "outputs": [],
   "source": [
    "# normalize\n",
    "scaler = MinMaxScaler()\n",
    "df.loc[:, ['age','avg_glucose_level', 'bmi']] = scaler.fit_transform(df.loc[:, ['age','avg_glucose_level', 'bmi']])"
   ]
  },
  {
   "cell_type": "code",
   "execution_count": 28,
   "id": "a8c302bf",
   "metadata": {},
   "outputs": [],
   "source": [
    "from sklearn.impute import KNNImputer"
   ]
  },
  {
   "cell_type": "code",
   "execution_count": 29,
   "id": "f34c823c",
   "metadata": {},
   "outputs": [],
   "source": [
    "# impute\n",
    "imputer = KNNImputer(n_neighbors = 2)\n",
    "df.loc[:,['age','avg_glucose_level', 'bmi']] = imputer.fit_transform(df.loc[:,['age','avg_glucose_level', 'bmi']])"
   ]
  },
  {
   "cell_type": "code",
   "execution_count": 34,
   "id": "25361f3b",
   "metadata": {},
   "outputs": [
    {
     "data": {
      "text/html": [
       "<div>\n",
       "<style scoped>\n",
       "    .dataframe tbody tr th:only-of-type {\n",
       "        vertical-align: middle;\n",
       "    }\n",
       "\n",
       "    .dataframe tbody tr th {\n",
       "        vertical-align: top;\n",
       "    }\n",
       "\n",
       "    .dataframe thead th {\n",
       "        text-align: right;\n",
       "    }\n",
       "</style>\n",
       "<table border=\"1\" class=\"dataframe\">\n",
       "  <thead>\n",
       "    <tr style=\"text-align: right;\">\n",
       "      <th></th>\n",
       "      <th>gender</th>\n",
       "      <th>age</th>\n",
       "      <th>hypertension</th>\n",
       "      <th>heart_disease</th>\n",
       "      <th>ever_married</th>\n",
       "      <th>work_type</th>\n",
       "      <th>residence_type</th>\n",
       "      <th>avg_glucose_level</th>\n",
       "      <th>bmi</th>\n",
       "      <th>smoking_status</th>\n",
       "      <th>stroke</th>\n",
       "    </tr>\n",
       "  </thead>\n",
       "  <tbody>\n",
       "    <tr>\n",
       "      <th>0</th>\n",
       "      <td>Male</td>\n",
       "      <td>0.816895</td>\n",
       "      <td>0</td>\n",
       "      <td>1</td>\n",
       "      <td>Yes</td>\n",
       "      <td>Private</td>\n",
       "      <td>Urban</td>\n",
       "      <td>0.801265</td>\n",
       "      <td>0.301260</td>\n",
       "      <td>formerly smoked</td>\n",
       "      <td>1</td>\n",
       "    </tr>\n",
       "    <tr>\n",
       "      <th>1</th>\n",
       "      <td>Female</td>\n",
       "      <td>0.743652</td>\n",
       "      <td>0</td>\n",
       "      <td>0</td>\n",
       "      <td>Yes</td>\n",
       "      <td>Self-employed</td>\n",
       "      <td>Rural</td>\n",
       "      <td>0.679023</td>\n",
       "      <td>0.276632</td>\n",
       "      <td>never smoked</td>\n",
       "      <td>1</td>\n",
       "    </tr>\n",
       "    <tr>\n",
       "      <th>2</th>\n",
       "      <td>Male</td>\n",
       "      <td>0.975586</td>\n",
       "      <td>0</td>\n",
       "      <td>1</td>\n",
       "      <td>Yes</td>\n",
       "      <td>Private</td>\n",
       "      <td>Rural</td>\n",
       "      <td>0.234512</td>\n",
       "      <td>0.254296</td>\n",
       "      <td>never smoked</td>\n",
       "      <td>1</td>\n",
       "    </tr>\n",
       "    <tr>\n",
       "      <th>3</th>\n",
       "      <td>Female</td>\n",
       "      <td>0.597168</td>\n",
       "      <td>0</td>\n",
       "      <td>0</td>\n",
       "      <td>Yes</td>\n",
       "      <td>Private</td>\n",
       "      <td>Urban</td>\n",
       "      <td>0.536008</td>\n",
       "      <td>0.276060</td>\n",
       "      <td>smokes</td>\n",
       "      <td>1</td>\n",
       "    </tr>\n",
       "    <tr>\n",
       "      <th>4</th>\n",
       "      <td>Female</td>\n",
       "      <td>0.963379</td>\n",
       "      <td>1</td>\n",
       "      <td>0</td>\n",
       "      <td>Yes</td>\n",
       "      <td>Self-employed</td>\n",
       "      <td>Rural</td>\n",
       "      <td>0.549349</td>\n",
       "      <td>0.156930</td>\n",
       "      <td>never smoked</td>\n",
       "      <td>1</td>\n",
       "    </tr>\n",
       "  </tbody>\n",
       "</table>\n",
       "</div>"
      ],
      "text/plain": [
       "   gender       age hypertension heart_disease ever_married      work_type  \\\n",
       "0    Male  0.816895            0             1          Yes        Private   \n",
       "1  Female  0.743652            0             0          Yes  Self-employed   \n",
       "2    Male  0.975586            0             1          Yes        Private   \n",
       "3  Female  0.597168            0             0          Yes        Private   \n",
       "4  Female  0.963379            1             0          Yes  Self-employed   \n",
       "\n",
       "  residence_type  avg_glucose_level       bmi   smoking_status stroke  \n",
       "0          Urban           0.801265  0.301260  formerly smoked      1  \n",
       "1          Rural           0.679023  0.276632     never smoked      1  \n",
       "2          Rural           0.234512  0.254296     never smoked      1  \n",
       "3          Urban           0.536008  0.276060           smokes      1  \n",
       "4          Rural           0.549349  0.156930     never smoked      1  "
      ]
     },
     "execution_count": 34,
     "metadata": {},
     "output_type": "execute_result"
    }
   ],
   "source": [
    "df.head()"
   ]
  },
  {
   "cell_type": "code",
   "execution_count": 37,
   "id": "9ed5ae1d",
   "metadata": {},
   "outputs": [],
   "source": [
    "# cat_vars = [\"gender\", \"hypertension\", \"heart_disease\", \"ever_married\", \"work_type\", \"residence_type\", \"smoking_status\", \"stroke\"]\n",
    "df_stroke = pd.get_dummies(df, columns = cat_vars[:-1])"
   ]
  },
  {
   "cell_type": "code",
   "execution_count": 38,
   "id": "688382f2",
   "metadata": {},
   "outputs": [
    {
     "data": {
      "text/html": [
       "<div>\n",
       "<style scoped>\n",
       "    .dataframe tbody tr th:only-of-type {\n",
       "        vertical-align: middle;\n",
       "    }\n",
       "\n",
       "    .dataframe tbody tr th {\n",
       "        vertical-align: top;\n",
       "    }\n",
       "\n",
       "    .dataframe thead th {\n",
       "        text-align: right;\n",
       "    }\n",
       "</style>\n",
       "<table border=\"1\" class=\"dataframe\">\n",
       "  <thead>\n",
       "    <tr style=\"text-align: right;\">\n",
       "      <th></th>\n",
       "      <th>age</th>\n",
       "      <th>avg_glucose_level</th>\n",
       "      <th>bmi</th>\n",
       "      <th>stroke</th>\n",
       "      <th>gender_Female</th>\n",
       "      <th>gender_Male</th>\n",
       "      <th>hypertension_0</th>\n",
       "      <th>hypertension_1</th>\n",
       "      <th>heart_disease_0</th>\n",
       "      <th>heart_disease_1</th>\n",
       "      <th>...</th>\n",
       "      <th>work_type_Never_worked</th>\n",
       "      <th>work_type_Private</th>\n",
       "      <th>work_type_Self-employed</th>\n",
       "      <th>work_type_children</th>\n",
       "      <th>residence_type_Rural</th>\n",
       "      <th>residence_type_Urban</th>\n",
       "      <th>smoking_status_Unknown</th>\n",
       "      <th>smoking_status_formerly smoked</th>\n",
       "      <th>smoking_status_never smoked</th>\n",
       "      <th>smoking_status_smokes</th>\n",
       "    </tr>\n",
       "  </thead>\n",
       "  <tbody>\n",
       "    <tr>\n",
       "      <th>0</th>\n",
       "      <td>0.816895</td>\n",
       "      <td>0.801265</td>\n",
       "      <td>0.301260</td>\n",
       "      <td>1</td>\n",
       "      <td>0</td>\n",
       "      <td>1</td>\n",
       "      <td>1</td>\n",
       "      <td>0</td>\n",
       "      <td>0</td>\n",
       "      <td>1</td>\n",
       "      <td>...</td>\n",
       "      <td>0</td>\n",
       "      <td>1</td>\n",
       "      <td>0</td>\n",
       "      <td>0</td>\n",
       "      <td>0</td>\n",
       "      <td>1</td>\n",
       "      <td>0</td>\n",
       "      <td>1</td>\n",
       "      <td>0</td>\n",
       "      <td>0</td>\n",
       "    </tr>\n",
       "    <tr>\n",
       "      <th>1</th>\n",
       "      <td>0.743652</td>\n",
       "      <td>0.679023</td>\n",
       "      <td>0.276632</td>\n",
       "      <td>1</td>\n",
       "      <td>1</td>\n",
       "      <td>0</td>\n",
       "      <td>1</td>\n",
       "      <td>0</td>\n",
       "      <td>1</td>\n",
       "      <td>0</td>\n",
       "      <td>...</td>\n",
       "      <td>0</td>\n",
       "      <td>0</td>\n",
       "      <td>1</td>\n",
       "      <td>0</td>\n",
       "      <td>1</td>\n",
       "      <td>0</td>\n",
       "      <td>0</td>\n",
       "      <td>0</td>\n",
       "      <td>1</td>\n",
       "      <td>0</td>\n",
       "    </tr>\n",
       "    <tr>\n",
       "      <th>2</th>\n",
       "      <td>0.975586</td>\n",
       "      <td>0.234512</td>\n",
       "      <td>0.254296</td>\n",
       "      <td>1</td>\n",
       "      <td>0</td>\n",
       "      <td>1</td>\n",
       "      <td>1</td>\n",
       "      <td>0</td>\n",
       "      <td>0</td>\n",
       "      <td>1</td>\n",
       "      <td>...</td>\n",
       "      <td>0</td>\n",
       "      <td>1</td>\n",
       "      <td>0</td>\n",
       "      <td>0</td>\n",
       "      <td>1</td>\n",
       "      <td>0</td>\n",
       "      <td>0</td>\n",
       "      <td>0</td>\n",
       "      <td>1</td>\n",
       "      <td>0</td>\n",
       "    </tr>\n",
       "    <tr>\n",
       "      <th>3</th>\n",
       "      <td>0.597168</td>\n",
       "      <td>0.536008</td>\n",
       "      <td>0.276060</td>\n",
       "      <td>1</td>\n",
       "      <td>1</td>\n",
       "      <td>0</td>\n",
       "      <td>1</td>\n",
       "      <td>0</td>\n",
       "      <td>1</td>\n",
       "      <td>0</td>\n",
       "      <td>...</td>\n",
       "      <td>0</td>\n",
       "      <td>1</td>\n",
       "      <td>0</td>\n",
       "      <td>0</td>\n",
       "      <td>0</td>\n",
       "      <td>1</td>\n",
       "      <td>0</td>\n",
       "      <td>0</td>\n",
       "      <td>0</td>\n",
       "      <td>1</td>\n",
       "    </tr>\n",
       "    <tr>\n",
       "      <th>4</th>\n",
       "      <td>0.963379</td>\n",
       "      <td>0.549349</td>\n",
       "      <td>0.156930</td>\n",
       "      <td>1</td>\n",
       "      <td>1</td>\n",
       "      <td>0</td>\n",
       "      <td>0</td>\n",
       "      <td>1</td>\n",
       "      <td>1</td>\n",
       "      <td>0</td>\n",
       "      <td>...</td>\n",
       "      <td>0</td>\n",
       "      <td>0</td>\n",
       "      <td>1</td>\n",
       "      <td>0</td>\n",
       "      <td>1</td>\n",
       "      <td>0</td>\n",
       "      <td>0</td>\n",
       "      <td>0</td>\n",
       "      <td>1</td>\n",
       "      <td>0</td>\n",
       "    </tr>\n",
       "  </tbody>\n",
       "</table>\n",
       "<p>5 rows × 23 columns</p>\n",
       "</div>"
      ],
      "text/plain": [
       "        age  avg_glucose_level       bmi stroke  gender_Female  gender_Male  \\\n",
       "0  0.816895           0.801265  0.301260      1              0            1   \n",
       "1  0.743652           0.679023  0.276632      1              1            0   \n",
       "2  0.975586           0.234512  0.254296      1              0            1   \n",
       "3  0.597168           0.536008  0.276060      1              1            0   \n",
       "4  0.963379           0.549349  0.156930      1              1            0   \n",
       "\n",
       "   hypertension_0  hypertension_1  heart_disease_0  heart_disease_1  ...  \\\n",
       "0               1               0                0                1  ...   \n",
       "1               1               0                1                0  ...   \n",
       "2               1               0                0                1  ...   \n",
       "3               1               0                1                0  ...   \n",
       "4               0               1                1                0  ...   \n",
       "\n",
       "   work_type_Never_worked  work_type_Private  work_type_Self-employed  \\\n",
       "0                       0                  1                        0   \n",
       "1                       0                  0                        1   \n",
       "2                       0                  1                        0   \n",
       "3                       0                  1                        0   \n",
       "4                       0                  0                        1   \n",
       "\n",
       "   work_type_children  residence_type_Rural  residence_type_Urban  \\\n",
       "0                   0                     0                     1   \n",
       "1                   0                     1                     0   \n",
       "2                   0                     1                     0   \n",
       "3                   0                     0                     1   \n",
       "4                   0                     1                     0   \n",
       "\n",
       "   smoking_status_Unknown  smoking_status_formerly smoked  \\\n",
       "0                       0                               1   \n",
       "1                       0                               0   \n",
       "2                       0                               0   \n",
       "3                       0                               0   \n",
       "4                       0                               0   \n",
       "\n",
       "   smoking_status_never smoked  smoking_status_smokes  \n",
       "0                            0                      0  \n",
       "1                            1                      0  \n",
       "2                            1                      0  \n",
       "3                            0                      1  \n",
       "4                            1                      0  \n",
       "\n",
       "[5 rows x 23 columns]"
      ]
     },
     "execution_count": 38,
     "metadata": {},
     "output_type": "execute_result"
    }
   ],
   "source": [
    "df_stroke.head()"
   ]
  },
  {
   "cell_type": "markdown",
   "id": "44a8bca5",
   "metadata": {},
   "source": [
    "__________________________"
   ]
  },
  {
   "cell_type": "markdown",
   "id": "eba30b76",
   "metadata": {},
   "source": [
    "Splitting dataset to train and test"
   ]
  },
  {
   "cell_type": "code",
   "execution_count": 138,
   "id": "4ca14cd2",
   "metadata": {},
   "outputs": [],
   "source": [
    "X, y = df_stroke.iloc[:, df_stroke.columns != 'stroke'], df_stroke['stroke']"
   ]
  },
  {
   "cell_type": "code",
   "execution_count": 139,
   "id": "f93b67e6",
   "metadata": {},
   "outputs": [],
   "source": [
    "X, y = shuffle(X, y, random_state = 0)"
   ]
  },
  {
   "cell_type": "code",
   "execution_count": 140,
   "id": "c6171858",
   "metadata": {},
   "outputs": [],
   "source": [
    "from sklearn.model_selection import train_test_split\n",
    "X_train, X_test, y_train, y_test = train_test_split(X, y, test_size= 0.3, random_state= 0)"
   ]
  },
  {
   "cell_type": "code",
   "execution_count": 141,
   "id": "9804e70e",
   "metadata": {},
   "outputs": [
    {
     "name": "stdout",
     "output_type": "stream",
     "text": [
      "X_train: (3576, 22)\n",
      "X_test: (1533, 22)\n",
      "y_train: (3576,)\n",
      "y_test: (1533,)\n"
     ]
    }
   ],
   "source": [
    "print(f\"X_train: {X_train.shape}\")\n",
    "print(f\"X_test: {X_test.shape}\")\n",
    "print(f\"y_train: {y_train.shape}\")\n",
    "print(f\"y_test: {y_test.shape}\")"
   ]
  },
  {
   "cell_type": "markdown",
   "id": "a4ab68c9",
   "metadata": {},
   "source": [
    "As mentioned, our dataset is imbalance, unfortunately (for the purpose of data analysis and stroke prediction), with a lot more no-stroke observations than stroke observations. Thus, we will have to resample the training data to make it balance. "
   ]
  },
  {
   "cell_type": "markdown",
   "id": "a8bb2a6f",
   "metadata": {},
   "source": [
    "**SMOTE** - Synthetic Minority Oversampling Technique (why not SMOT??) \\\n",
    "SMOTE is a technique that generates synthetic sample of the minority class. This helps with overfitting problem posed by random oversampling. It uses interpolation based on the datapoints of the minority class to generate in-between point. \\\n",
    "Some potential drawbacks: \n",
    "- The synthetic instances are in the same trend as the original sample, thus, could create bias\n",
    "- Tends to create a large number of noisy data points in feature space\n",
    "More on SMOTE: https://www.analyticsvidhya.com/blog/2020/10/overcoming-class-imbalance-using-smote-techniques/, https://machinelearningmastery.com/smote-oversampling-for-imbalanced-classification/"
   ]
  },
  {
   "cell_type": "code",
   "execution_count": 142,
   "id": "6f59b450",
   "metadata": {},
   "outputs": [],
   "source": [
    "from imblearn.over_sampling import SMOTE"
   ]
  },
  {
   "cell_type": "code",
   "execution_count": 143,
   "id": "1fd26bba",
   "metadata": {},
   "outputs": [
    {
     "name": "stdout",
     "output_type": "stream",
     "text": [
      "Before Counter({0: 3393, 1: 183})\n"
     ]
    }
   ],
   "source": [
    "from collections import Counter\n",
    "counter = Counter(y_train)\n",
    "print('Before', counter)"
   ]
  },
  {
   "cell_type": "code",
   "execution_count": 144,
   "id": "17ac632a",
   "metadata": {},
   "outputs": [
    {
     "name": "stdout",
     "output_type": "stream",
     "text": [
      "After Counter({0: 3393, 1: 3393})\n"
     ]
    }
   ],
   "source": [
    "smt = SMOTE()\n",
    "X_train_sm, y_train_sm = sm.fit_resample(X_train, y_train)\n",
    "counter = Counter(y_train_sm)\n",
    "print('After', counter)"
   ]
  },
  {
   "cell_type": "markdown",
   "id": "63d40ca1",
   "metadata": {},
   "source": [
    "As we see over with the counter value, we will obtain a balance dataset to train on."
   ]
  },
  {
   "cell_type": "markdown",
   "id": "e1bd1a1c",
   "metadata": {},
   "source": [
    "## Modeling and Evaluation\n",
    "We will be performing gridsearch with smote on different models. More on example of doing gridsearch and smote: https://medium.com/swlh/detecting-credit-card-fraud-with-smote-and-gridsearch-pipeline-d11f63f2fef2"
   ]
  },
  {
   "cell_type": "code",
   "execution_count": 83,
   "id": "97886dd3",
   "metadata": {},
   "outputs": [],
   "source": [
    "from sklearn.tree import DecisionTreeClassifier\n",
    "from sklearn.linear_model import LogisticRegression\n",
    "from sklearn.ensemble import RandomForestClassifier"
   ]
  },
  {
   "cell_type": "code",
   "execution_count": 75,
   "id": "12e306f1",
   "metadata": {},
   "outputs": [],
   "source": [
    "from sklearn.model_selection import cross_val_predict\n",
    "from sklearn.metrics import classification_report\n",
    "from sklearn.model_selection import GridSearchCV"
   ]
  },
  {
   "cell_type": "code",
   "execution_count": 129,
   "id": "aae95714",
   "metadata": {},
   "outputs": [],
   "source": [
    "from imblearn.pipeline import Pipeline, make_pipeline"
   ]
  },
  {
   "cell_type": "code",
   "execution_count": 228,
   "id": "790c10bf",
   "metadata": {},
   "outputs": [],
   "source": [
    "from sklearn.metrics import precision_recall_curve\n",
    "from sklearn.metrics import auc"
   ]
  },
  {
   "cell_type": "code",
   "execution_count": 73,
   "id": "6b49c22b",
   "metadata": {},
   "outputs": [],
   "source": [
    "def Model(model, oversam_mode = 'normal'):\n",
    "    ## using all default models\n",
    "    if oversam_mode == 'normal':\n",
    "        model.fit(X_train, y_train)\n",
    "    elif oversam_mode == 'smote':\n",
    "        model.fit(X_train_sm, y_train_sm)\n",
    "    y_pred = model.predict(X_test)\n",
    "\n",
    "    cm = confusion_matrix(y_test, y_pred)\n",
    "    sns.heatmap(cm, cmap=\"Blues\", annot = True, fmt = 'd')\n",
    "    \n",
    "    print(classification_report(y_test, y_pred))"
   ]
  },
  {
   "cell_type": "code",
   "execution_count": 265,
   "id": "8af7bf2d",
   "metadata": {},
   "outputs": [],
   "source": [
    "# ref for params: https://towardsdatascience.com/logistic-regression-model-tuning-with-scikit-learn-part-1-425142e01af5\n",
    "lrc_param = {\n",
    "     'model__penalty' : ['l1', 'l2'],\n",
    "    'model__C' : [0.25, 0.5, 0.75, 1],\n",
    "    'model__random_state' : [42]\n",
    "}\n",
    "\n",
    "dtc_param = {\n",
    "    'model__criterion' : ['gini','entropy'],\n",
    "    'model__max_depth' : [4,5,6,7,8],\n",
    "    'model__min_samples_split' : [2,3,4,5],\n",
    "    'model__min_samples_leaf': [1,2,3,4,5], \n",
    "    'model__random_state' : [42]\n",
    "}\n",
    "\n",
    "rfc_param = {\n",
    "    'model__n_estimators' :[100,200],\n",
    "    'model__max_depth' : [4,5,6],\n",
    "    'model__min_samples_split' : [3,4,5],\n",
    "    'model__min_samples_leaf': [2,3,4],\n",
    "    'model__random_state' : [42]\n",
    "}"
   ]
  },
  {
   "cell_type": "code",
   "execution_count": 236,
   "id": "587c0652",
   "metadata": {},
   "outputs": [],
   "source": [
    "def plot_pr(model, name):\n",
    "    # ref: https://machinelearningmastery.com/roc-curves-and-precision-recall-curves-for-imbalanced-classification/\n",
    "    # predict probabilities\n",
    "    yhat = model.predict_proba(X_test)\n",
    "    # retrieve just the probabilities for the positive class\n",
    "    pos_probs = yhat[:, 1]\n",
    "    # calculate the no skill line as the proportion of the positive class\n",
    "    no_skill = len(y[y==1]) / len(y)\n",
    "    # plot the no skill precision-recall curve\n",
    "    plt.plot([0, 1], [no_skill, no_skill], linestyle='--', label='No Skill')\n",
    "    # calculate model precision-recall curve\n",
    "    precision, recall, _ = precision_recall_curve(y_test, pos_probs)\n",
    "    # plot the model precision-recall curve\n",
    "    plt.plot(recall, precision, marker='.', label= name)\n",
    "    # axis labels\n",
    "    plt.xlabel('Recall')\n",
    "    plt.ylabel('Precision')\n",
    "    # show the legend\n",
    "    plt.legend()\n",
    "    # show the plot\n",
    "    plt.title(f'Precision - Recall For {name} Classifier')\n",
    "    plt.show()"
   ]
  },
  {
   "cell_type": "markdown",
   "id": "63cd74fd",
   "metadata": {},
   "source": [
    "### Decision Tree"
   ]
  },
  {
   "cell_type": "code",
   "execution_count": 156,
   "id": "109d7519",
   "metadata": {},
   "outputs": [
    {
     "data": {
      "text/plain": [
       "Pipeline(steps=[('smt', SMOTE()), ('model', DecisionTreeClassifier())])"
      ]
     },
     "execution_count": 156,
     "metadata": {},
     "output_type": "execute_result"
    }
   ],
   "source": [
    "pipeline = Pipeline([('smt', smt), ('model', DecisionTreeClassifier())])\n",
    "pipeline.fit(X_train, y_train)"
   ]
  },
  {
   "cell_type": "code",
   "execution_count": 177,
   "id": "89ec831d",
   "metadata": {},
   "outputs": [],
   "source": [
    "grid = GridSearchCV(pipeline, param_grid = dtc_param, cv = 5, scoring = ['recall', 'f1_macro'], refit = \"f1_macro\",\n",
    "                   return_train_score = True, n_jobs = 2)\n",
    "grid = grid.fit(X_train, y_train)"
   ]
  },
  {
   "cell_type": "code",
   "execution_count": 178,
   "id": "af9d2f19",
   "metadata": {},
   "outputs": [
    {
     "data": {
      "text/plain": [
       "{'model__criterion': 'entropy',\n",
       " 'model__max_depth': 5,\n",
       " 'model__min_samples_leaf': 2,\n",
       " 'model__min_samples_split': 4}"
      ]
     },
     "execution_count": 178,
     "metadata": {},
     "output_type": "execute_result"
    }
   ],
   "source": [
    "grid.best_params_"
   ]
  },
  {
   "cell_type": "code",
   "execution_count": 213,
   "id": "2c0e91e5",
   "metadata": {},
   "outputs": [
    {
     "name": "stdout",
     "output_type": "stream",
     "text": [
      "Decision Tree Classifier performance:\n",
      "              precision    recall  f1-score   support\n",
      "\n",
      "           0       0.99      0.76      0.86      1467\n",
      "           1       0.12      0.74      0.21        66\n",
      "\n",
      "    accuracy                           0.76      1533\n",
      "   macro avg       0.55      0.75      0.54      1533\n",
      "weighted avg       0.95      0.76      0.83      1533\n",
      "\n"
     ]
    },
    {
     "data": {
      "image/png": "[encoded data removed]",
      "text/plain": [
       "<Figure size 432x288 with 2 Axes>"
      ]
     },
     "metadata": {
      "needs_background": "light"
     },
     "output_type": "display_data"
    }
   ],
   "source": [
    "print('Decision Tree Classifier performance:')\n",
    "clf_dt = DecisionTreeClassifier(criterion = 'entropy', max_depth = 5, min_samples_leaf = 2, min_samples_split = 4)\n",
    "Model(clf_dt, 'smote')"
   ]
  },
  {
   "cell_type": "code",
   "execution_count": 237,
   "id": "9042852f",
   "metadata": {},
   "outputs": [
    {
     "data": {
      "image/png": "[encoded data removed]",
      "text/plain": [
       "<Figure size 432x288 with 1 Axes>"
      ]
     },
     "metadata": {
      "needs_background": "light"
     },
     "output_type": "display_data"
    }
   ],
   "source": [
    "plot_pr(clf_dt, 'Decision Tree')"
   ]
  },
  {
   "cell_type": "markdown",
   "id": "63ef907c",
   "metadata": {},
   "source": [
    "Our model of Decision Tree Classifier only reaches high recall at quite low precision."
   ]
  },
  {
   "cell_type": "markdown",
   "id": "4b38132c",
   "metadata": {},
   "source": [
    "### Random Forest"
   ]
  },
  {
   "cell_type": "code",
   "execution_count": 209,
   "id": "a4556598",
   "metadata": {},
   "outputs": [
    {
     "data": {
      "text/plain": [
       "Pipeline(steps=[('smt', SMOTE()), ('model', RandomForestClassifier())])"
      ]
     },
     "execution_count": 209,
     "metadata": {},
     "output_type": "execute_result"
    }
   ],
   "source": [
    "pipeline_rf = Pipeline([('smt', smt), ('model', RandomForestClassifier())])\n",
    "pipeline_rf.fit(X_train, y_train)"
   ]
  },
  {
   "cell_type": "code",
   "execution_count": 210,
   "id": "5436f369",
   "metadata": {},
   "outputs": [],
   "source": [
    "grid_rf = GridSearchCV(pipeline_rf, param_grid = rfc_param, cv = 5, scoring = ['recall', 'f1_macro'], refit = \"f1_macro\",\n",
    "                   return_train_score = True, n_jobs = 2)\n",
    "grid_rf = grid_rf.fit(X_train, y_train)"
   ]
  },
  {
   "cell_type": "code",
   "execution_count": 211,
   "id": "22c5ef72",
   "metadata": {},
   "outputs": [
    {
     "data": {
      "text/plain": [
       "{'model__max_depth': 6,\n",
       " 'model__min_samples_leaf': 4,\n",
       " 'model__min_samples_split': 5,\n",
       " 'model__n_estimators': 100}"
      ]
     },
     "execution_count": 211,
     "metadata": {},
     "output_type": "execute_result"
    }
   ],
   "source": [
    "grid_rf.best_params_"
   ]
  },
  {
   "cell_type": "code",
   "execution_count": 220,
   "id": "dcc6d3d5",
   "metadata": {},
   "outputs": [
    {
     "name": "stdout",
     "output_type": "stream",
     "text": [
      "Random Forest Classifier Performance\n",
      "              precision    recall  f1-score   support\n",
      "\n",
      "           0       0.99      0.75      0.85      1467\n",
      "           1       0.12      0.79      0.21        66\n",
      "\n",
      "    accuracy                           0.75      1533\n",
      "   macro avg       0.56      0.77      0.53      1533\n",
      "weighted avg       0.95      0.75      0.82      1533\n",
      "\n"
     ]
    },
    {
     "data": {
      "image/png": "[encoded data removed]",
      "text/plain": [
       "<Figure size 432x288 with 2 Axes>"
      ]
     },
     "metadata": {
      "needs_background": "light"
     },
     "output_type": "display_data"
    }
   ],
   "source": [
    "print('Random Forest Classifier Performance')\n",
    "clf_rf = RandomForestClassifier(n_estimators = 100, max_depth = 6, min_samples_leaf = 4, min_samples_split = 4)\n",
    "Model(clf_rf, 'smote')"
   ]
  },
  {
   "cell_type": "code",
   "execution_count": 239,
   "id": "bde2345c",
   "metadata": {},
   "outputs": [
    {
     "data": {
      "image/png": "[encoded data removed]",
      "text/plain": [
       "<Figure size 432x288 with 1 Axes>"
      ]
     },
     "metadata": {
      "needs_background": "light"
     },
     "output_type": "display_data"
    }
   ],
   "source": [
    "plot_pr(clf_rf, 'Random Forest')"
   ]
  },
  {
   "cell_type": "markdown",
   "id": "6966e796",
   "metadata": {},
   "source": [
    "Same with Decision Tree, we are able to acquire a high recall, but with a loss for precision. The recall is slightly better with Random Forest though"
   ]
  },
  {
   "cell_type": "markdown",
   "id": "75dcf0e2",
   "metadata": {},
   "source": [
    "### Logistic Regression"
   ]
  },
  {
   "cell_type": "code",
   "execution_count": 243,
   "id": "e42c9489",
   "metadata": {},
   "outputs": [
    {
     "data": {
      "text/plain": [
       "Pipeline(steps=[('smt', SMOTE()), ('model', LogisticRegression())])"
      ]
     },
     "execution_count": 243,
     "metadata": {},
     "output_type": "execute_result"
    }
   ],
   "source": [
    "pipeline_lr = Pipeline([('smt', smt), ('model', LogisticRegression())])\n",
    "pipeline_lr.fit(X_train, y_train)"
   ]
  },
  {
   "cell_type": "code",
   "execution_count": 274,
   "id": "21d0d131",
   "metadata": {},
   "outputs": [],
   "source": [
    "import warnings\n",
    "warnings.filterwarnings('ignore')\n",
    "grid_lr = GridSearchCV(pipeline_lr, param_grid = lrc_param, cv = 5, scoring = ['recall', 'f1_macro'], refit = \"f1_macro\",\n",
    "                   return_train_score = True, n_jobs = 2)\n",
    "grid_lr = grid_lr.fit(X_train, y_train)"
   ]
  },
  {
   "cell_type": "code",
   "execution_count": 275,
   "id": "e0dc124a",
   "metadata": {},
   "outputs": [
    {
     "data": {
      "text/plain": [
       "{'model__C': 0.25, 'model__penalty': 'l2', 'model__random_state': 42}"
      ]
     },
     "execution_count": 275,
     "metadata": {},
     "output_type": "execute_result"
    }
   ],
   "source": [
    "grid_lr.best_params_"
   ]
  },
  {
   "cell_type": "code",
   "execution_count": 276,
   "id": "8fce6401",
   "metadata": {},
   "outputs": [
    {
     "name": "stdout",
     "output_type": "stream",
     "text": [
      "Random Forest Classifier Performance\n",
      "              precision    recall  f1-score   support\n",
      "\n",
      "           0       0.97      0.88      0.93      1467\n",
      "           1       0.15      0.48      0.23        66\n",
      "\n",
      "    accuracy                           0.86      1533\n",
      "   macro avg       0.56      0.68      0.58      1533\n",
      "weighted avg       0.94      0.86      0.90      1533\n",
      "\n"
     ]
    },
    {
     "data": {
      "image/png": "[encoded data removed]",
      "text/plain": [
       "<Figure size 432x288 with 2 Axes>"
      ]
     },
     "metadata": {
      "needs_background": "light"
     },
     "output_type": "display_data"
    }
   ],
   "source": [
    "print('Random Forest Classifier Performance')\n",
    "clf_lr = LogisticRegression(C = 0.25, penalty = 'l2', random_state = 42)\n",
    "Model(clf_lr, 'smote')"
   ]
  },
  {
   "cell_type": "code",
   "execution_count": 273,
   "id": "d91e5a23",
   "metadata": {},
   "outputs": [
    {
     "data": {
      "image/png": "[encoded data removed]",
      "text/plain": [
       "<Figure size 432x288 with 1 Axes>"
      ]
     },
     "metadata": {
      "needs_background": "light"
     },
     "output_type": "display_data"
    }
   ],
   "source": [
    "plot_pr(clf_lr, 'Logistic Regression')"
   ]
  },
  {
   "cell_type": "markdown",
   "id": "74313356",
   "metadata": {},
   "source": [
    "Logistic Regression obtains a slightly higher precision for class 1, but the recall rate is not really as good as the other 2 models. "
   ]
  },
  {
   "cell_type": "code",
   "execution_count": null,
   "id": "dd9ea7cc",
   "metadata": {},
   "outputs": [],
   "source": []
  }
 ],
 "metadata": {
  "kernelspec": {
   "display_name": "Python 3",
   "language": "python",
   "name": "python3"
  },
  "language_info": {
   "codemirror_mode": {
    "name": "ipython",
    "version": 3
   },
   "file_extension": ".py",
   "mimetype": "text/x-python",
   "name": "python",
   "nbconvert_exporter": "python",
   "pygments_lexer": "ipython3",
   "version": "3.7.10"
  }
 },
 "nbformat": 4,
 "nbformat_minor": 5
}
